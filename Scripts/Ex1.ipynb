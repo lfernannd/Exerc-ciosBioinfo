{
 "cells": [
  {
   "cell_type": "code",
   "execution_count": 25,
   "metadata": {},
   "outputs": [],
   "source": [
    "import pandas as pd\n",
    "import numpy as np"
   ]
  },
  {
   "cell_type": "code",
   "execution_count": 10,
   "metadata": {},
   "outputs": [],
   "source": [
    "FILENAME = \"../Files/ES_test.txt\""
   ]
  },
  {
   "cell_type": "code",
   "execution_count": 13,
   "metadata": {},
   "outputs": [
    {
     "data": {
      "text/html": [
       "<div>\n",
       "<style scoped>\n",
       "    .dataframe tbody tr th:only-of-type {\n",
       "        vertical-align: middle;\n",
       "    }\n",
       "\n",
       "    .dataframe tbody tr th {\n",
       "        vertical-align: top;\n",
       "    }\n",
       "\n",
       "    .dataframe thead th {\n",
       "        text-align: right;\n",
       "    }\n",
       "</style>\n",
       "<table border=\"1\" class=\"dataframe\">\n",
       "  <thead>\n",
       "    <tr style=\"text-align: right;\">\n",
       "      <th></th>\n",
       "      <th>Pathways</th>\n",
       "      <th>ES-comp1</th>\n",
       "      <th>ES-comp2</th>\n",
       "    </tr>\n",
       "  </thead>\n",
       "  <tbody>\n",
       "    <tr>\n",
       "      <th>0</th>\n",
       "      <td>KEGG_CYSTEINE_AND_METHIONINE_METABOLISM</td>\n",
       "      <td>-0.319873</td>\n",
       "      <td>-0.166862</td>\n",
       "    </tr>\n",
       "    <tr>\n",
       "      <th>1</th>\n",
       "      <td>REACTOME_DEADENYLATION_OF_MRNA</td>\n",
       "      <td>-0.308617</td>\n",
       "      <td>-0.342037</td>\n",
       "    </tr>\n",
       "    <tr>\n",
       "      <th>2</th>\n",
       "      <td>REACTOME_MITOCHONDRIAL_TRNA_AMINOACYLATION</td>\n",
       "      <td>-0.478721</td>\n",
       "      <td>-0.430644</td>\n",
       "    </tr>\n",
       "    <tr>\n",
       "      <th>3</th>\n",
       "      <td>BIOCARTA_IL10_PATHWAY</td>\n",
       "      <td>-0.406366</td>\n",
       "      <td>-0.377585</td>\n",
       "    </tr>\n",
       "    <tr>\n",
       "      <th>4</th>\n",
       "      <td>REACTOME_SIGNALING_BY_PDGF</td>\n",
       "      <td>-0.315887</td>\n",
       "      <td>-0.254941</td>\n",
       "    </tr>\n",
       "    <tr>\n",
       "      <th>...</th>\n",
       "      <td>...</td>\n",
       "      <td>...</td>\n",
       "      <td>...</td>\n",
       "    </tr>\n",
       "    <tr>\n",
       "      <th>919</th>\n",
       "      <td>REACTOME_APC_C_CDH1_MEDIATED_DEGRADATION_OF_CD...</td>\n",
       "      <td>-0.284663</td>\n",
       "      <td>-0.435449</td>\n",
       "    </tr>\n",
       "    <tr>\n",
       "      <th>920</th>\n",
       "      <td>KEGG_PROGESTERONE_MEDIATED_OOCYTE_MATURATION</td>\n",
       "      <td>-0.390246</td>\n",
       "      <td>-0.321002</td>\n",
       "    </tr>\n",
       "    <tr>\n",
       "      <th>921</th>\n",
       "      <td>REACTOME_INTERFERON_GAMMA_SIGNALING</td>\n",
       "      <td>-0.322902</td>\n",
       "      <td>-0.451328</td>\n",
       "    </tr>\n",
       "    <tr>\n",
       "      <th>922</th>\n",
       "      <td>KEGG_GLYCOSAMINOGLYCAN_BIOSYNTHESIS_CHONDROITI...</td>\n",
       "      <td>0.216218</td>\n",
       "      <td>0.301667</td>\n",
       "    </tr>\n",
       "    <tr>\n",
       "      <th>923</th>\n",
       "      <td>REACTOME_OPIOID_SIGNALLING</td>\n",
       "      <td>-0.232578</td>\n",
       "      <td>-0.189769</td>\n",
       "    </tr>\n",
       "  </tbody>\n",
       "</table>\n",
       "<p>924 rows × 3 columns</p>\n",
       "</div>"
      ],
      "text/plain": [
       "                                              Pathways  ES-comp1  ES-comp2\n",
       "0              KEGG_CYSTEINE_AND_METHIONINE_METABOLISM -0.319873 -0.166862\n",
       "1                       REACTOME_DEADENYLATION_OF_MRNA -0.308617 -0.342037\n",
       "2           REACTOME_MITOCHONDRIAL_TRNA_AMINOACYLATION -0.478721 -0.430644\n",
       "3                                BIOCARTA_IL10_PATHWAY -0.406366 -0.377585\n",
       "4                           REACTOME_SIGNALING_BY_PDGF -0.315887 -0.254941\n",
       "..                                                 ...       ...       ...\n",
       "919  REACTOME_APC_C_CDH1_MEDIATED_DEGRADATION_OF_CD... -0.284663 -0.435449\n",
       "920       KEGG_PROGESTERONE_MEDIATED_OOCYTE_MATURATION -0.390246 -0.321002\n",
       "921                REACTOME_INTERFERON_GAMMA_SIGNALING -0.322902 -0.451328\n",
       "922  KEGG_GLYCOSAMINOGLYCAN_BIOSYNTHESIS_CHONDROITI...  0.216218  0.301667\n",
       "923                         REACTOME_OPIOID_SIGNALLING -0.232578 -0.189769\n",
       "\n",
       "[924 rows x 3 columns]"
      ]
     },
     "execution_count": 13,
     "metadata": {},
     "output_type": "execute_result"
    }
   ],
   "source": [
    "df_pathways = pd.read_csv(FILENAME, sep='\\t')\n",
    "df_pathways"
   ]
  },
  {
   "cell_type": "markdown",
   "metadata": {},
   "source": [
    "Quais pathways possuem um ES na comp1 > 0.5? "
   ]
  },
  {
   "cell_type": "code",
   "execution_count": 17,
   "metadata": {},
   "outputs": [
    {
     "name": "stdout",
     "output_type": "stream",
     "text": [
      "72     BTM-M61.2-ENRICHED IN NK CELLS (RECEPTOR ACTIV...\n",
      "354                      BTM-M27.0-CHEMOKINE CLUSTER (I)\n",
      "402                     BTM-S1-NK CELL SURFACE SIGNATURE\n",
      "422                  REACTOME_RNA_POL_I_PROMOTER_OPENING\n",
      "478                       KEGG_GRAFT_VERSUS_HOST_DISEASE\n",
      "617                  REACTOME_PACKAGING_OF_TELOMERE_ENDS\n",
      "656                  BTM-M61.0-ENRICHED IN NK CELLS (II)\n",
      "699                                    REACTOME_AMYLOIDS\n",
      "886                                         BTM-M105-TBA\n",
      "896                    BTM-M7.2-ENRICHED IN NK CELLS (I)\n",
      "Name: Pathways, dtype: object\n"
     ]
    }
   ],
   "source": [
    "paths_1 = df_pathways[df_pathways[\"ES-comp1\"] > 0.5]\n",
    "print(paths_1.Pathways)"
   ]
  },
  {
   "cell_type": "markdown",
   "metadata": {},
   "source": [
    "Quais pathways possuem um ES na comp1 > 0.3 e um ES na comp2 < -0.3?"
   ]
  },
  {
   "cell_type": "code",
   "execution_count": 24,
   "metadata": {},
   "outputs": [
    {
     "name": "stdout",
     "output_type": "stream",
     "text": [
      "21     REACTOME_RNA_POL_I_RNA_POL_III_AND_MITOCHONDRI...\n",
      "335    BTM-M30-CELL MOVEMENT, ADHESION AND PLATELET A...\n",
      "352         BTM-M196-PLATELET ACTIVATION - ACTIN BINDING\n",
      "360                        REACTOME_SIGNAL_AMPLIFICATION\n",
      "382    REACTOME_THROMBOXANE_SIGNALLING_THROUGH_TP_REC...\n",
      "497    REACTOME_DEPOSITION_OF_NEW_CENPA_CONTAINING_NU...\n",
      "531     REACTOME_POST_CHAPERONIN_TUBULIN_FOLDING_PATHWAY\n",
      "547                        REACTOME_TELOMERE_MAINTENANCE\n",
      "553                              BIOCARTA_ACTINY_PATHWAY\n",
      "587    BTM-M4.3-MYELOID CELL ENRICHED RECEPTORS AND T...\n",
      "595                                         BTM-M201-TBA\n",
      "717                     REACTOME_RNA_POL_I_TRANSCRIPTION\n",
      "720    BTM-M238-RESPIRATORY ELECTRON TRANSPORT CHAIN ...\n",
      "735                                          BTM-M66-TBA\n",
      "777                            REACTOME_SIGNALING_BY_BMP\n",
      "796                REACTOME_ADP_SIGNALLING_THROUGH_P2RY1\n",
      "812    REACTOME_FORMATION_OF_FIBRIN_CLOT_CLOTTING_CAS...\n",
      "814    REACTOME_RESPONSE_TO_ELEVATED_PLATELET_CYTOSOL...\n",
      "868                     REACTOME_GLUTATHIONE_CONJUGATION\n",
      "887    REACTOME_G_BETA_GAMMA_SIGNALLING_THROUGH_PLC_BETA\n",
      "910      BTM-M81-ENRICHED IN MYELOID CELLS AND MONOCYTES\n",
      "Name: Pathways, dtype: object\n"
     ]
    }
   ],
   "source": [
    "paths_2 = df_pathways[((df_pathways[\"ES-comp1\"] > 0.3) & (df_pathways[\"ES-comp2\"] < -0.3))]\n",
    "print(paths_2.Pathways)"
   ]
  },
  {
   "cell_type": "markdown",
   "metadata": {},
   "source": [
    "Quais pathways possuem um ES médio (comp1 e comp2) < -0.3?"
   ]
  },
  {
   "cell_type": "code",
   "execution_count": 35,
   "metadata": {},
   "outputs": [
    {
     "name": "stdout",
     "output_type": "stream",
     "text": [
      "                                              Pathways  ES-medio\n",
      "0              KEGG_CYSTEINE_AND_METHIONINE_METABOLISM -0.486735\n",
      "1                       REACTOME_DEADENYLATION_OF_MRNA -0.650654\n",
      "2           REACTOME_MITOCHONDRIAL_TRNA_AMINOACYLATION -0.909364\n",
      "3                                BIOCARTA_IL10_PATHWAY -0.783951\n",
      "4                           REACTOME_SIGNALING_BY_PDGF -0.570828\n",
      "..                                                 ...       ...\n",
      "916  REACTOME_INTERACTIONS_OF_VPR_WITH_HOST_CELLULA... -0.964032\n",
      "919  REACTOME_APC_C_CDH1_MEDIATED_DEGRADATION_OF_CD... -0.720112\n",
      "920       KEGG_PROGESTERONE_MEDIATED_OOCYTE_MATURATION -0.711248\n",
      "921                REACTOME_INTERFERON_GAMMA_SIGNALING -0.774230\n",
      "923                         REACTOME_OPIOID_SIGNALLING -0.422347\n",
      "\n",
      "[658 rows x 2 columns]\n"
     ]
    }
   ],
   "source": [
    "df_pathways[\"ES-medio\"] = df_pathways.apply(lambda x: np.mean(float(x[\"ES-comp1\"]) + float(x[\"ES-comp2\"])), axis=1)\n",
    "\n",
    "paths_3 = df_pathways[df_pathways[\"ES-medio\"] < -0.3]\n",
    "print(paths_3[[\"Pathways\",\"ES-medio\"]])"
   ]
  },
  {
   "cell_type": "markdown",
   "metadata": {},
   "source": [
    "Quais pathways possuem um ES médio (comp1 e comp2) < -0.3 e que são do banco de dados REACTOME (ou seja, possui a palavra \"REACTOME_\" no nome do pathway)?\n"
   ]
  },
  {
   "cell_type": "code",
   "execution_count": 37,
   "metadata": {},
   "outputs": [
    {
     "name": "stdout",
     "output_type": "stream",
     "text": [
      "                                              Pathways  ES-medio\n",
      "1                       REACTOME_DEADENYLATION_OF_MRNA -0.650654\n",
      "2           REACTOME_MITOCHONDRIAL_TRNA_AMINOACYLATION -0.909364\n",
      "4                           REACTOME_SIGNALING_BY_PDGF -0.570828\n",
      "7            REACTOME_O_LINKED_GLYCOSYLATION_OF_MUCINS -0.568086\n",
      "12                               REACTOME_PI3K_CASCADE -0.563657\n",
      "..                                                 ...       ...\n",
      "915                            REACTOME_HIV_LIFE_CYCLE -0.741402\n",
      "916  REACTOME_INTERACTIONS_OF_VPR_WITH_HOST_CELLULA... -0.964032\n",
      "919  REACTOME_APC_C_CDH1_MEDIATED_DEGRADATION_OF_CD... -0.720112\n",
      "921                REACTOME_INTERFERON_GAMMA_SIGNALING -0.774230\n",
      "923                         REACTOME_OPIOID_SIGNALLING -0.422347\n",
      "\n",
      "[365 rows x 2 columns]\n"
     ]
    }
   ],
   "source": [
    "# paths_3 contém todos os ES médio < -0.3\n",
    "paths_4 = paths_3[paths_3[\"Pathways\"].str.contains(\"REACTOME_\")]\n",
    "print(paths_4[[\"Pathways\",\"ES-medio\"]])"
   ]
  },
  {
   "cell_type": "markdown",
   "metadata": {},
   "source": [
    "Quais pathways possuem um ES médio (comp1 e comp2) < -0.3 e que são do banco de dados REACTOME (ou seja, possui a palavra \"REACTOME_\" no nome do pathway)?"
   ]
  },
  {
   "cell_type": "code",
   "execution_count": 45,
   "metadata": {},
   "outputs": [],
   "source": [
    "with open(\"../Answers/Ex1_5.txt\", \"w\") as f:\n",
    "    paths_4_str = paths_4[[\"Pathways\",\"ES-medio\"]].to_string(index=False)\n",
    "    f.write(paths_4_str)"
   ]
  }
 ],
 "metadata": {
  "interpreter": {
   "hash": "0e1898d504e473bdd4635340539d41a5cecc72accb8598f6f0c7bcb5921af418"
  },
  "kernelspec": {
   "display_name": "Python 3.8.3 ('base')",
   "language": "python",
   "name": "python3"
  },
  "language_info": {
   "codemirror_mode": {
    "name": "ipython",
    "version": 3
   },
   "file_extension": ".py",
   "mimetype": "text/x-python",
   "name": "python",
   "nbconvert_exporter": "python",
   "pygments_lexer": "ipython3",
   "version": "3.8.3"
  },
  "orig_nbformat": 4
 },
 "nbformat": 4,
 "nbformat_minor": 2
}
