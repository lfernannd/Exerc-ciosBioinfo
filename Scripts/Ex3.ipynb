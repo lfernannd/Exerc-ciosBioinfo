{
 "cells": [
  {
   "cell_type": "markdown",
   "metadata": {},
   "source": [
    "Faça um programa que busque as duas sequências abaixo:\n",
    "Seq1: ATGAGCGAACGTCGATATAGCCCGCTCGCGACGCTGTTCGC\n",
    "Seq2: TCCGCCCCAACCCATACAGAAGGTGAACACTGA\n",
    "O arquivo de saída tem que ser a \n",
    "Seq_Final = Seq1 + Sequencia que estiver no meio + Seq2.\n",
    "\n",
    "O programa tem que gerar a Seq_Final num arquivo chamado Results.fasta e gerar um report (contendo a posição de início e fim da Seq_Final no FASTA original, o número de bp da Seq_Final e a quantidade de letras A, T, C e G na Seq_Final)."
   ]
  },
  {
   "cell_type": "code",
   "execution_count": 6,
   "metadata": {},
   "outputs": [],
   "source": [
    "FILEPATH = \"../Files/sequence.fasta\"\n",
    "\n",
    "with open(FILEPATH, 'r') as f:\n",
    "    sequence = f.readlines()[1:]\n",
    "    full_sequence=\"\".join(sequence).replace(\"\\n\",\"\")\n"
   ]
  },
  {
   "cell_type": "code",
   "execution_count": 21,
   "metadata": {},
   "outputs": [
    {
     "name": "stdout",
     "output_type": "stream",
     "text": [
      "{'A': 153, 'T': 280, 'C': 400, 'G': 406}\n"
     ]
    }
   ],
   "source": [
    "SEQ1 = \"ATGAGCGAACGTCGATATAGCCCGCTCGCGACGCTGTTCGC\"\n",
    "SEQ2 = \"TCCGCCCCAACCCATACAGAAGGTGAACACTGA\"\n",
    "\n",
    "index_init_sequence1 = full_sequence.index(SEQ1)\n",
    "index_end_sequence2 = full_sequence.index(SEQ2) + len(SEQ2)\n",
    "\n",
    "sequence_final = full_sequence[index_init_sequence1 : index_end_sequence2]\n",
    "pos_inic = index_init_sequence1 + 1\n",
    "pos_final = index_end_sequence2\n",
    "num_bp = len(sequence_final)\n",
    "\n",
    "counting_letters = {\"A\" : 0, \"T\" : 0, \"C\" : 0, \"G\" : 0}\n",
    "for bp in sequence_final:\n",
    "    counting_letters[bp] += 1"
   ]
  },
  {
   "cell_type": "code",
   "execution_count": 28,
   "metadata": {},
   "outputs": [],
   "source": [
    "with open(\"../Answers/Ex3.fasta\", \"w\") as f:\n",
    "    f.write(f\"Posicao inicial: {pos_inic}\\nPosicao final: {pos_final}\\nNumero de pares de base: {num_bp}\\nA: {counting_letters.get('A')} - T: {counting_letters.get('T')} - C: {counting_letters.get('C')} - G: {counting_letters.get('G')}\")\n"
   ]
  },
  {
   "cell_type": "code",
   "execution_count": 59,
   "metadata": {},
   "outputs": [
    {
     "name": "stdout",
     "output_type": "stream",
     "text": [
      "START -MFLAPDPPAVPAIVAVALVVAAHPTTTGAASQARARAA- STOP\n"
     ]
    }
   ],
   "source": [
    "\n",
    "dna_to_rna = {\"A\" : \"U\", \"T\" : \"A\", \"C\" : \"G\", \"G\" : \"C\"}\n",
    "\n",
    "sequence_rna =\"\"\n",
    "for i in sequence_final:\n",
    "    sequence_rna += dna_to_rna[i]\n",
    "\n",
    "rna_to_protein = {\"UUU\":\"F\", \"UUC\":\"F\", \"UUA\":\"L\", \"UUG\":\"L\",\n",
    "    \"UCU\":\"S\", \"UCC\":\"S\", \"UCA\":\"S\", \"UCG\":\"S\",\n",
    "    \"UAU\":\"Y\", \"UAC\":\"Y\", \"UAA\":\"- STOP\", \"UAG\":\" - STOP\",\n",
    "    \"UGU\":\"C\", \"UGC\":\"C\", \"UGA\":\"- STOP\", \"UGG\":\"W\",\n",
    "    \"CUU\":\"L\", \"CUC\":\"L\", \"CUA\":\"L\", \"CUG\":\"L\",\n",
    "    \"CCU\":\"P\", \"CCC\":\"P\", \"CCA\":\"P\", \"CCG\":\"P\",\n",
    "    \"CAU\":\"H\", \"CAC\":\"H\", \"CAA\":\"Q\", \"CAG\":\"Q\",\n",
    "    \"CGU\":\"R\", \"CGC\":\"R\", \"CGA\":\"R\", \"CGG\":\"R\",\n",
    "    \"AUU\":\"I\", \"AUC\":\"I\", \"AUA\":\"I\", \"AUG\":\"START -M\",\n",
    "    \"ACU\":\"T\", \"ACC\":\"T\", \"ACA\":\"T\", \"ACG\":\"T\",\n",
    "    \"AAU\":\"N\", \"AAC\":\"N\", \"AAA\":\"K\", \"AAG\":\"K\",\n",
    "    \"AGU\":\"S\", \"AGC\":\"S\", \"AGA\":\"R\", \"AGG\":\"R\",\n",
    "    \"GUU\":\"V\", \"GUC\":\"V\", \"GUA\":\"V\", \"GUG\":\"V\",\n",
    "    \"GCU\":\"A\", \"GCC\":\"A\", \"GCA\":\"A\", \"GCG\":\"A\",\n",
    "    \"GAU\":\"D\", \"GAC\":\"D\", \"GAA\":\"E\", \"GAG\":\"E\",\n",
    "    \"GGU\":\"G\", \"GGC\":\"G\", \"GGA\":\"G\", \"GGG\":\"G\",}\n",
    "\n",
    "sequence_protein = \"\"\n",
    "\n",
    "start_codon = sequence_rna.find(\"AUG\")\n",
    "for i in range(start_codon,len(sequence_rna),3):\n",
    "    protein = str(rna_to_protein.get(sequence_rna[i:i+3]))\n",
    "    sequence_protein += str(protein)\n",
    "    if (protein == \"- STOP\") or (None):\n",
    "        break\n",
    "\n",
    "print(sequence_protein)"
   ]
  }
 ],
 "metadata": {
  "interpreter": {
   "hash": "0e1898d504e473bdd4635340539d41a5cecc72accb8598f6f0c7bcb5921af418"
  },
  "kernelspec": {
   "display_name": "Python 3.8.3 ('base')",
   "language": "python",
   "name": "python3"
  },
  "language_info": {
   "codemirror_mode": {
    "name": "ipython",
    "version": 3
   },
   "file_extension": ".py",
   "mimetype": "text/x-python",
   "name": "python",
   "nbconvert_exporter": "python",
   "pygments_lexer": "ipython3",
   "version": "3.8.3"
  },
  "orig_nbformat": 4
 },
 "nbformat": 4,
 "nbformat_minor": 2
}
