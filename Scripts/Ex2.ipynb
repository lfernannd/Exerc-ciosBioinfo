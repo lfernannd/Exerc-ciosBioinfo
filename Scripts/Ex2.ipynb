{
 "cells": [
  {
   "cell_type": "markdown",
   "metadata": {},
   "source": [
    "Concatene as diferentes linhas de sequencia (linha 2 a N) em uma linha apenas e salve num arquivo."
   ]
  },
  {
   "cell_type": "code",
   "execution_count": 8,
   "metadata": {},
   "outputs": [],
   "source": [
    "FILEPATH = \"../Files/Seq_single_fasta.txt\"\n",
    "OUTPUTPATH = \"../Files/full_sequence.txt\"\n",
    "\n",
    "with open(FILEPATH, 'r') as f:\n",
    "    sequence = f.readlines()[1:]\n",
    "    full_sequence=\"\".join(sequence).replace(\"\\n\",\"\")\n",
    "    with open(OUTPUTPATH, 'w') as k:\n",
    "        k.write(full_sequence)\n"
   ]
  },
  {
   "cell_type": "markdown",
   "metadata": {},
   "source": [
    "Parseie o header do fasta e me dê o nome do RefSeq (NM_000605 sem o .3 do final)"
   ]
  },
  {
   "cell_type": "code",
   "execution_count": 9,
   "metadata": {},
   "outputs": [
    {
     "name": "stdout",
     "output_type": "stream",
     "text": [
      "NM_000605\n"
     ]
    }
   ],
   "source": [
    "with open(FILEPATH, 'r') as f:\n",
    "    header = f.readlines()[0]\n",
    "    RefSeq = header.split(\"|\")[3][:-2]\n",
    "    print(RefSeq)"
   ]
  },
  {
   "cell_type": "markdown",
   "metadata": {},
   "source": [
    "Busque pela sequencia \"CTGCTTGAAGGACAGA\" e substitua cada letra por \"X\""
   ]
  },
  {
   "cell_type": "code",
   "execution_count": 13,
   "metadata": {},
   "outputs": [
    {
     "name": "stdout",
     "output_type": "stream",
     "text": [
      "GAGAACCTGGAGCCTAAGGTTTAGGCTCACCCATTTCAACCAGTCTAGCAGCATCTGCAACATCTACAATGGCCTTGACCTTTGCTTTACTGGTGGCCCTCCTGGTGCTCAGCTGCAAGTCAAGCTGCTCTGTGGGCTGTGATCTGCCTCAAACCCACAGCCTGGGTAGCAGGAGGACCTTGATGCTCCTGGCACAGATGAGGAGAATCTCTCTTTTCTCXXXXXXXXXXXXXXXXCATGACTTTGGATTTCCCCAGGAGGAGTTTGGCAACCAGTTCCAAAAGGCTGAAACCATCCCTGTCCTCCATGAGATGATCCAGCAGATCTTCAATCTCTTCAGCACAAAGGACTCATCTGCTGCTTGGGATGAGACCCTCCTAGACAAATTCTACACTGAACTCTACCAGCAGCTGAATGACCTGGAAGCCTGTGTGATACAGGGGGTGGGGGTGACAGAGACTCCCCTGATGAAGGAGGACTCCATTCTGGCTGTGAGGAAATACTTCCAAAGAATCACTCTCTATCTGAAAGAGAAGAAATACAGCCCTTGTGCCTGGGAGGTTGTCAGAGCAGAAATCATGAGATCTTTTTCTTTGTCAACAAACTTGCAAGAAAGTTTAAGAAGTAAGGAATGAAAACTGGTTCAACATGGAAATGATTTTCATTGATTCGTATGCCAGCTCACCTTTTTATGATCTGCCATTTCAAAGACTCATGTTTCTGCTATGACCATGACACGATTTAAATCTTTTCAAATGTTTTTAGGAGTATTAATCAACATTGTATTCAGCTCTTAAGGCACTAGTCCCTTACAGAGGACCATGCTGACTGATCCATTATCTATTTAAATATTTTTAAAATATTATTTATTTAACTATTTATAAAACAACTTATTTTTGTTCATATTATGTCATGTGCACCTTTGCACAGTGGTTAATGTAATAAAATATGTTCTTTGTATTTGGTAAATTTATTTTGTGTTGTTCATTGAACTTTTGCTATGGAAACTTTTGTACTTGTTTATTCTTTAAAATGAAATTCCAAGCCTAATTGTGCAACCTGATTACAGAATAACTGGTACACTTCATTTATCCATCAATATTATATTCAAGATATAAGTAAAAATAAACTTTCTGTAAACCA\n"
     ]
    }
   ],
   "source": [
    "search_sequence = \"CTGCTTGAAGGACAGA\"\n",
    "modified_sequence = full_sequence.replace(search_sequence,\"X\"*len(search_sequence))\n",
    "print(modified_sequence)"
   ]
  },
  {
   "cell_type": "markdown",
   "metadata": {},
   "source": [
    "Diga a posição inicial e final da sequencia \"CTGCTTGAAGGACAGA\" no fasta. A primeira base do fasta é a posição 1. "
   ]
  },
  {
   "cell_type": "code",
   "execution_count": 21,
   "metadata": {},
   "outputs": [
    {
     "name": "stdout",
     "output_type": "stream",
     "text": [
      "A sequência está entre 221 e 236\n"
     ]
    }
   ],
   "source": [
    "index_sequence = full_sequence.index(search_sequence)\n",
    "print(f\"A sequência está entre {index_sequence + 1} e {index_sequence + len(search_sequence)}\")"
   ]
  }
 ],
 "metadata": {
  "interpreter": {
   "hash": "0e1898d504e473bdd4635340539d41a5cecc72accb8598f6f0c7bcb5921af418"
  },
  "kernelspec": {
   "display_name": "Python 3.8.3 ('base')",
   "language": "python",
   "name": "python3"
  },
  "language_info": {
   "codemirror_mode": {
    "name": "ipython",
    "version": 3
   },
   "file_extension": ".py",
   "mimetype": "text/x-python",
   "name": "python",
   "nbconvert_exporter": "python",
   "pygments_lexer": "ipython3",
   "version": "3.8.3"
  },
  "orig_nbformat": 4
 },
 "nbformat": 4,
 "nbformat_minor": 2
}
